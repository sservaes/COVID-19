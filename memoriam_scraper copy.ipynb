{
 "cells": [
  {
   "cell_type": "markdown",
   "metadata": {},
   "source": [
    "# Scraper for collecting Belgium deaths\n",
    "## 1. Background\n",
    "This is a program that scrapes the reported deaths in Belgium publically available on inmemoriam.be. This scraper was made to get an idea of the impact of COVID-19 on the Belgian death rate.\n",
    "Parameters in this scraper are set to collect all deaths from the 1st of January 2009 up until the 1st of January 2021. As the last time this scraper was run was on the 18th of October 2020, data for the final months is not yet included.\n",
    "The collected data consists out of the name of the deceased (`name`), the age of the deceased (`age`), the date the person passed away (`date`), the place of death (`location`) as well as separate columns for the month (`month`), week (`week`) and day (`day`) of the year. \n",
    "\n",
    "## 2. Necessary packages\n",
    "In order to build the scraper, the following packages were imported and used."
   ]
  },
  {
   "cell_type": "code",
   "execution_count": 12,
   "metadata": {},
   "outputs": [
    {
     "output_type": "error",
     "ename": "ModuleNotFoundError",
     "evalue": "No module named 'httpclient'",
     "traceback": [
      "\u001b[0;31m---------------------------------------------------------------------------\u001b[0m",
      "\u001b[0;31mModuleNotFoundError\u001b[0m                       Traceback (most recent call last)",
      "\u001b[0;32m<ipython-input-12-c628cb4f2e20>\u001b[0m in \u001b[0;36m<module>\u001b[0;34m\u001b[0m\n\u001b[1;32m      8\u001b[0m \u001b[0;32mfrom\u001b[0m \u001b[0mjoblib\u001b[0m \u001b[0;32mimport\u001b[0m \u001b[0mParallel\u001b[0m\u001b[0;34m,\u001b[0m \u001b[0mdelayed\u001b[0m\u001b[0;34m\u001b[0m\u001b[0;34m\u001b[0m\u001b[0m\n\u001b[1;32m      9\u001b[0m \u001b[0;32mimport\u001b[0m \u001b[0mmultiprocessing\u001b[0m\u001b[0;34m\u001b[0m\u001b[0;34m\u001b[0m\u001b[0m\n\u001b[0;32m---> 10\u001b[0;31m \u001b[0;32mimport\u001b[0m \u001b[0mhttpclient\u001b[0m \u001b[0;32mas\u001b[0m \u001b[0mhttp\u001b[0m\u001b[0;34m\u001b[0m\u001b[0;34m\u001b[0m\u001b[0m\n\u001b[0m",
      "\u001b[0;31mModuleNotFoundError\u001b[0m: No module named 'httpclient'"
     ]
    }
   ],
   "source": [
    "import requests\n",
    "from bs4 import BeautifulSoup\n",
    "import pandas as pd\n",
    "import numpy as np\n",
    "from pandas import Series, DataFrame\n",
    "import datetime as dt\n",
    "import matplotlib.pyplot as plt\n",
    "from joblib import Parallel, delayed\n",
    "import multiprocessing"
   ]
  },
  {
   "cell_type": "markdown",
   "metadata": {},
   "source": [
    "## 3. Scraper\n",
    "### 3.1 Set parameters\n",
    "First the parameters for the scraper are set to include the desired date range. As the website separates these in several pages, adjustments are made in order to collect the total number of pages and extract all the required data from each page."
   ]
  },
  {
   "cell_type": "code",
   "execution_count": 2,
   "metadata": {},
   "outputs": [],
   "source": [
    "current_page = 1\n",
    "begin_date = \"2009-01-01\"\n",
    "end_date = \"2021-01-01\"\n",
    "url = \"https://www.inmemoriam.be/nl/rouwberichten/?page=\" + str(current_page) + \"&filter=&periodStart=\" + str(begin_date) + \"&periodEnd=\" + str(end_date) + \"&yearOfBirth=&undertakerId=&placeOfResidence=&provinceId=&newsPaper=&obituary=1\"\n",
    "page = requests.get(url)\n",
    "soup = BeautifulSoup(page.content, 'html.parser')\n",
    "\n",
    "page_list = soup.find_all('a', class_ = 'c-pagination__item')\n",
    "\n",
    "pages = []\n",
    "\n",
    "for page in page_list:\n",
    "    page = page.get_text()\n",
    "    pages.append(page)\n",
    "\n",
    "end_page = pages[-2]"
   ]
  },
  {
   "cell_type": "markdown",
   "metadata": {},
   "source": [
    "### 3.2 Collect the data\n",
    "Next the scraper is run using the parameters set above, collecting `name`, `age`, `date` and `location` for each deceased person in the set date range. The result is stored in a dataframe called `df`. With there being over 5600 pages to be scraped, this process will take a long time to finish."
   ]
  },
  {
   "cell_type": "code",
   "execution_count": 14,
   "metadata": {
    "tags": []
   },
   "outputs": [
    {
     "output_type": "stream",
     "name": "stdout",
     "text": [
      "Total amount of pages is:  14570\n",
      "[Parallel(n_jobs=-1)]: Using backend LokyBackend with 12 concurrent workers.\n",
      "[Parallel(n_jobs=-1)]: Done   1 tasks      | elapsed:   11.7s\n",
      "[Parallel(n_jobs=-1)]: Done   8 tasks      | elapsed:   15.6s\n",
      "[Parallel(n_jobs=-1)]: Done  17 tasks      | elapsed:   26.9s\n",
      "[Parallel(n_jobs=-1)]: Done  26 tasks      | elapsed:   34.1s\n",
      "[Parallel(n_jobs=-1)]: Done  37 tasks      | elapsed:   44.9s\n",
      "[Parallel(n_jobs=-1)]: Done  48 tasks      | elapsed:   54.2s\n",
      "[Parallel(n_jobs=-1)]: Done  61 tasks      | elapsed:  1.1min\n",
      "[Parallel(n_jobs=-1)]: Done  74 tasks      | elapsed:  1.3min\n",
      "[Parallel(n_jobs=-1)]: Done  89 tasks      | elapsed:  1.6min\n",
      "[Parallel(n_jobs=-1)]: Done 104 tasks      | elapsed:  1.9min\n",
      "[Parallel(n_jobs=-1)]: Done 121 tasks      | elapsed:  2.1min\n",
      "[Parallel(n_jobs=-1)]: Done 138 tasks      | elapsed:  2.4min\n",
      "[Parallel(n_jobs=-1)]: Done 157 tasks      | elapsed:  2.7min\n",
      "[Parallel(n_jobs=-1)]: Done 176 tasks      | elapsed:  3.1min\n",
      "[Parallel(n_jobs=-1)]: Done 197 tasks      | elapsed:  3.4min\n",
      "[Parallel(n_jobs=-1)]: Done 218 tasks      | elapsed:  3.8min\n",
      "[Parallel(n_jobs=-1)]: Done 241 tasks      | elapsed:  4.2min\n",
      "[Parallel(n_jobs=-1)]: Done 264 tasks      | elapsed:  4.6min\n",
      "[Parallel(n_jobs=-1)]: Done 289 tasks      | elapsed:  5.0min\n",
      "[Parallel(n_jobs=-1)]: Done 314 tasks      | elapsed:  5.4min\n",
      "[Parallel(n_jobs=-1)]: Done 341 tasks      | elapsed:  5.8min\n",
      "[Parallel(n_jobs=-1)]: Done 368 tasks      | elapsed:  6.3min\n",
      "[Parallel(n_jobs=-1)]: Done 397 tasks      | elapsed:  6.8min\n",
      "[Parallel(n_jobs=-1)]: Done 426 tasks      | elapsed:  7.2min\n",
      "[Parallel(n_jobs=-1)]: Done 457 tasks      | elapsed:  7.8min\n",
      "[Parallel(n_jobs=-1)]: Done 488 tasks      | elapsed:  8.3min\n",
      "[Parallel(n_jobs=-1)]: Done 521 tasks      | elapsed:  8.9min\n",
      "[Parallel(n_jobs=-1)]: Done 554 tasks      | elapsed:  9.5min\n",
      "[Parallel(n_jobs=-1)]: Done 589 tasks      | elapsed: 10.1min\n",
      "[Parallel(n_jobs=-1)]: Done 624 tasks      | elapsed: 10.7min\n",
      "[Parallel(n_jobs=-1)]: Done 661 tasks      | elapsed: 11.3min\n",
      "[Parallel(n_jobs=-1)]: Done 698 tasks      | elapsed: 12.0min\n",
      "[Parallel(n_jobs=-1)]: Done 737 tasks      | elapsed: 12.6min\n",
      "[Parallel(n_jobs=-1)]: Done 776 tasks      | elapsed: 13.3min\n",
      "[Parallel(n_jobs=-1)]: Done 817 tasks      | elapsed: 14.0min\n",
      "[Parallel(n_jobs=-1)]: Done 858 tasks      | elapsed: 14.7min\n",
      "[Parallel(n_jobs=-1)]: Done 901 tasks      | elapsed: 15.4min\n",
      "[Parallel(n_jobs=-1)]: Done 944 tasks      | elapsed: 16.2min\n",
      "[Parallel(n_jobs=-1)]: Done 989 tasks      | elapsed: 16.9min\n",
      "[Parallel(n_jobs=-1)]: Done 1034 tasks      | elapsed: 17.7min\n",
      "[Parallel(n_jobs=-1)]: Done 1081 tasks      | elapsed: 18.5min\n",
      "[Parallel(n_jobs=-1)]: Done 1128 tasks      | elapsed: 19.3min\n",
      "[Parallel(n_jobs=-1)]: Done 1177 tasks      | elapsed: 20.1min\n",
      "[Parallel(n_jobs=-1)]: Done 1226 tasks      | elapsed: 21.0min\n",
      "[Parallel(n_jobs=-1)]: Done 1277 tasks      | elapsed: 21.9min\n",
      "[Parallel(n_jobs=-1)]: Done 1328 tasks      | elapsed: 22.8min\n",
      "[Parallel(n_jobs=-1)]: Done 1381 tasks      | elapsed: 23.7min\n",
      "[Parallel(n_jobs=-1)]: Done 1434 tasks      | elapsed: 24.6min\n",
      "[Parallel(n_jobs=-1)]: Done 1489 tasks      | elapsed: 25.5min\n",
      "[Parallel(n_jobs=-1)]: Done 1544 tasks      | elapsed: 26.5min\n",
      "[Parallel(n_jobs=-1)]: Done 1601 tasks      | elapsed: 27.5min\n",
      "[Parallel(n_jobs=-1)]: Done 1658 tasks      | elapsed: 28.5min\n",
      "[Parallel(n_jobs=-1)]: Done 1717 tasks      | elapsed: 29.5min\n",
      "[Parallel(n_jobs=-1)]: Done 1776 tasks      | elapsed: 30.5min\n",
      "[Parallel(n_jobs=-1)]: Done 1837 tasks      | elapsed: 31.5min\n",
      "[Parallel(n_jobs=-1)]: Done 1898 tasks      | elapsed: 32.6min\n",
      "[Parallel(n_jobs=-1)]: Done 1961 tasks      | elapsed: 33.6min\n",
      "[Parallel(n_jobs=-1)]: Done 2024 tasks      | elapsed: 34.7min\n",
      "[Parallel(n_jobs=-1)]: Done 2089 tasks      | elapsed: 35.8min\n",
      "[Parallel(n_jobs=-1)]: Done 2154 tasks      | elapsed: 36.9min\n",
      "[Parallel(n_jobs=-1)]: Done 2221 tasks      | elapsed: 38.1min\n",
      "[Parallel(n_jobs=-1)]: Done 2288 tasks      | elapsed: 39.2min\n",
      "[Parallel(n_jobs=-1)]: Done 2357 tasks      | elapsed: 40.4min\n",
      "[Parallel(n_jobs=-1)]: Done 2426 tasks      | elapsed: 41.6min\n",
      "[Parallel(n_jobs=-1)]: Done 2497 tasks      | elapsed: 42.8min\n",
      "[Parallel(n_jobs=-1)]: Done 2568 tasks      | elapsed: 44.1min\n",
      "[Parallel(n_jobs=-1)]: Done 2641 tasks      | elapsed: 45.5min\n",
      "[Parallel(n_jobs=-1)]: Done 2714 tasks      | elapsed: 46.7min\n",
      "[Parallel(n_jobs=-1)]: Done 2789 tasks      | elapsed: 48.0min\n",
      "[Parallel(n_jobs=-1)]: Done 2864 tasks      | elapsed: 49.4min\n",
      "[Parallel(n_jobs=-1)]: Done 2941 tasks      | elapsed: 50.7min\n",
      "[Parallel(n_jobs=-1)]: Done 3018 tasks      | elapsed: 52.0min\n",
      "[Parallel(n_jobs=-1)]: Done 3097 tasks      | elapsed: 53.4min\n",
      "[Parallel(n_jobs=-1)]: Done 3176 tasks      | elapsed: 54.8min\n",
      "[Parallel(n_jobs=-1)]: Done 3257 tasks      | elapsed: 56.2min\n",
      "[Parallel(n_jobs=-1)]: Done 3338 tasks      | elapsed: 57.5min\n",
      "[Parallel(n_jobs=-1)]: Done 3421 tasks      | elapsed: 59.0min\n",
      "[Parallel(n_jobs=-1)]: Done 3504 tasks      | elapsed: 60.4min\n",
      "[Parallel(n_jobs=-1)]: Done 3589 tasks      | elapsed: 61.8min\n",
      "[Parallel(n_jobs=-1)]: Done 3674 tasks      | elapsed: 63.3min\n",
      "[Parallel(n_jobs=-1)]: Done 3761 tasks      | elapsed: 64.8min\n",
      "[Parallel(n_jobs=-1)]: Done 3848 tasks      | elapsed: 66.5min\n",
      "[Parallel(n_jobs=-1)]: Done 3937 tasks      | elapsed: 68.0min\n",
      "[Parallel(n_jobs=-1)]: Done 4026 tasks      | elapsed: 69.6min\n",
      "[Parallel(n_jobs=-1)]: Done 4117 tasks      | elapsed: 71.2min\n",
      "[Parallel(n_jobs=-1)]: Done 4208 tasks      | elapsed: 72.7min\n",
      "[Parallel(n_jobs=-1)]: Done 4301 tasks      | elapsed: 74.4min\n",
      "[Parallel(n_jobs=-1)]: Done 4394 tasks      | elapsed: 76.0min\n",
      "[Parallel(n_jobs=-1)]: Done 4489 tasks      | elapsed: 77.7min\n",
      "[Parallel(n_jobs=-1)]: Done 4584 tasks      | elapsed: 79.4min\n",
      "[Parallel(n_jobs=-1)]: Done 4681 tasks      | elapsed: 81.1min\n",
      "[Parallel(n_jobs=-1)]: Done 4778 tasks      | elapsed: 82.8min\n",
      "[Parallel(n_jobs=-1)]: Done 4877 tasks      | elapsed: 84.5min\n",
      "[Parallel(n_jobs=-1)]: Done 4976 tasks      | elapsed: 86.2min\n",
      "[Parallel(n_jobs=-1)]: Done 5077 tasks      | elapsed: 88.0min\n",
      "[Parallel(n_jobs=-1)]: Done 5178 tasks      | elapsed: 89.8min\n",
      "[Parallel(n_jobs=-1)]: Done 5281 tasks      | elapsed: 91.6min\n",
      "[Parallel(n_jobs=-1)]: Done 5384 tasks      | elapsed: 93.4min\n",
      "[Parallel(n_jobs=-1)]: Done 5489 tasks      | elapsed: 95.3min\n",
      "[Parallel(n_jobs=-1)]: Done 5594 tasks      | elapsed: 97.1min\n",
      "[Parallel(n_jobs=-1)]: Done 5701 tasks      | elapsed: 99.0min\n",
      "[Parallel(n_jobs=-1)]: Done 5808 tasks      | elapsed: 100.9min\n",
      "[Parallel(n_jobs=-1)]: Done 5917 tasks      | elapsed: 102.8min\n",
      "[Parallel(n_jobs=-1)]: Done 6026 tasks      | elapsed: 104.9min\n",
      "[Parallel(n_jobs=-1)]: Done 6137 tasks      | elapsed: 106.8min\n",
      "[Parallel(n_jobs=-1)]: Done 6248 tasks      | elapsed: 108.8min\n",
      "[Parallel(n_jobs=-1)]: Done 6361 tasks      | elapsed: 110.8min\n",
      "[Parallel(n_jobs=-1)]: Done 6474 tasks      | elapsed: 112.8min\n",
      "[Parallel(n_jobs=-1)]: Done 6589 tasks      | elapsed: 114.8min\n",
      "[Parallel(n_jobs=-1)]: Done 6704 tasks      | elapsed: 116.8min\n",
      "[Parallel(n_jobs=-1)]: Done 6821 tasks      | elapsed: 118.8min\n",
      "[Parallel(n_jobs=-1)]: Done 6938 tasks      | elapsed: 120.8min\n",
      "[Parallel(n_jobs=-1)]: Done 7057 tasks      | elapsed: 122.9min\n",
      "[Parallel(n_jobs=-1)]: Done 7176 tasks      | elapsed: 124.8min\n",
      "[Parallel(n_jobs=-1)]: Done 7297 tasks      | elapsed: 126.9min\n",
      "[Parallel(n_jobs=-1)]: Done 7418 tasks      | elapsed: 128.9min\n",
      "[Parallel(n_jobs=-1)]: Done 7541 tasks      | elapsed: 131.1min\n",
      "[Parallel(n_jobs=-1)]: Done 7664 tasks      | elapsed: 133.2min\n",
      "[Parallel(n_jobs=-1)]: Done 7789 tasks      | elapsed: 135.4min\n",
      "[Parallel(n_jobs=-1)]: Done 7914 tasks      | elapsed: 137.5min\n",
      "[Parallel(n_jobs=-1)]: Done 8041 tasks      | elapsed: 139.7min\n",
      "[Parallel(n_jobs=-1)]: Done 8168 tasks      | elapsed: 141.9min\n",
      "[Parallel(n_jobs=-1)]: Done 8297 tasks      | elapsed: 144.3min\n",
      "[Parallel(n_jobs=-1)]: Done 8426 tasks      | elapsed: 146.5min\n",
      "[Parallel(n_jobs=-1)]: Done 8557 tasks      | elapsed: 148.8min\n",
      "[Parallel(n_jobs=-1)]: Done 8688 tasks      | elapsed: 151.1min\n",
      "[Parallel(n_jobs=-1)]: Done 8821 tasks      | elapsed: 153.3min\n",
      "[Parallel(n_jobs=-1)]: Done 8954 tasks      | elapsed: 155.7min\n",
      "[Parallel(n_jobs=-1)]: Done 9089 tasks      | elapsed: 158.0min\n",
      "[Parallel(n_jobs=-1)]: Done 9224 tasks      | elapsed: 160.6min\n",
      "[Parallel(n_jobs=-1)]: Done 9361 tasks      | elapsed: 163.1min\n",
      "[Parallel(n_jobs=-1)]: Done 9498 tasks      | elapsed: 165.6min\n",
      "[Parallel(n_jobs=-1)]: Done 9637 tasks      | elapsed: 168.1min\n",
      "[Parallel(n_jobs=-1)]: Done 9776 tasks      | elapsed: 170.7min\n",
      "[Parallel(n_jobs=-1)]: Done 9917 tasks      | elapsed: 173.3min\n",
      "[Parallel(n_jobs=-1)]: Done 10058 tasks      | elapsed: 175.9min\n",
      "[Parallel(n_jobs=-1)]: Done 10201 tasks      | elapsed: 178.4min\n",
      "[Parallel(n_jobs=-1)]: Done 10344 tasks      | elapsed: 181.0min\n",
      "[Parallel(n_jobs=-1)]: Done 10489 tasks      | elapsed: 183.6min\n",
      "[Parallel(n_jobs=-1)]: Done 10634 tasks      | elapsed: 186.1min\n",
      "[Parallel(n_jobs=-1)]: Done 10781 tasks      | elapsed: 188.7min\n",
      "[Parallel(n_jobs=-1)]: Done 10928 tasks      | elapsed: 191.4min\n",
      "[Parallel(n_jobs=-1)]: Done 11077 tasks      | elapsed: 194.1min\n",
      "[Parallel(n_jobs=-1)]: Done 11226 tasks      | elapsed: 196.8min\n",
      "[Parallel(n_jobs=-1)]: Done 11377 tasks      | elapsed: 199.5min\n",
      "[Parallel(n_jobs=-1)]: Done 11528 tasks      | elapsed: 202.3min\n",
      "[Parallel(n_jobs=-1)]: Done 11681 tasks      | elapsed: 205.1min\n",
      "[Parallel(n_jobs=-1)]: Done 11834 tasks      | elapsed: 207.8min\n",
      "[Parallel(n_jobs=-1)]: Done 11989 tasks      | elapsed: 210.6min\n",
      "[Parallel(n_jobs=-1)]: Done 12144 tasks      | elapsed: 213.4min\n",
      "[Parallel(n_jobs=-1)]: Done 12301 tasks      | elapsed: 216.2min\n",
      "[Parallel(n_jobs=-1)]: Done 12458 tasks      | elapsed: 219.0min\n",
      "[Parallel(n_jobs=-1)]: Done 12617 tasks      | elapsed: 221.9min\n",
      "[Parallel(n_jobs=-1)]: Done 12776 tasks      | elapsed: 224.8min\n",
      "[Parallel(n_jobs=-1)]: Done 12937 tasks      | elapsed: 227.7min\n",
      "[Parallel(n_jobs=-1)]: Done 13098 tasks      | elapsed: 230.7min\n",
      "[Parallel(n_jobs=-1)]: Done 13261 tasks      | elapsed: 233.7min\n",
      "[Parallel(n_jobs=-1)]: Done 13424 tasks      | elapsed: 236.6min\n",
      "[Parallel(n_jobs=-1)]: Done 13589 tasks      | elapsed: 239.5min\n",
      "[Parallel(n_jobs=-1)]: Done 13754 tasks      | elapsed: 242.4min\n",
      "[Parallel(n_jobs=-1)]: Done 13921 tasks      | elapsed: 245.4min\n",
      "[Parallel(n_jobs=-1)]: Done 14088 tasks      | elapsed: 248.3min\n",
      "[Parallel(n_jobs=-1)]: Done 14257 tasks      | elapsed: 251.3min\n",
      "[Parallel(n_jobs=-1)]: Done 14426 tasks      | elapsed: 254.4min\n",
      "[Parallel(n_jobs=-1)]: Done 14570 out of 14570 | elapsed: 256.9min finished\n"
     ]
    }
   ],
   "source": [
    "df = pd.DataFrame()\n",
    "df[\"name\"] = []\n",
    "df[\"age\"] = []\n",
    "df[\"date\"] = []\n",
    "df[\"location\"] = []\n",
    "page_list = np.arange(current_page,int(end_page) + 1)\n",
    "print(\"Total amount of pages is: \", end_page)\n",
    "\n",
    "def get_deaths(num):\n",
    "    print(\"Page \", num, \" is being scraped now.\")\n",
    "    tempdf = pd.DataFrame()\n",
    "    url = \"https://www.inmemoriam.be/nl/rouwberichten/?page=\" + str(num) + \"&filter=&periodStart=\" + str(begin_date) + \"&periodEnd=\" + str(end_date) + \"&yearOfBirth=&undertakerId=&placeOfResidence=&provinceId=&newsPaper=&obituary=1\"\n",
    "    # page = requests.get(url)\n",
    "    for i in [1,2,3]:\n",
    "        try:  \n",
    "            page = requests.get(url, timeout=30)\n",
    "            msg = page.text\n",
    "            if msg: break\n",
    "        except Exception as e:\n",
    "            sys.stderr.write('Got error when requesting URL \"' + '\": ' + str(e) + '\\n')\n",
    "            if i == 3 :\n",
    "                sys.stderr.write('{0.filename}@{0.lineno}: Failed requesting from URL ==> {2}\\n'.format(inspect.getframeinfo(inspect.currentframe()), e))\n",
    "                raise e\n",
    "            time.sleep(10*(i-1))\n",
    "\n",
    "    soup = BeautifulSoup(page.content, 'html.parser')\n",
    "\n",
    "    name_list = soup.find_all('h3', class_ = 'c-deceased__name')\n",
    "    age_list = soup.find_all('span', class_ = 'c-deceased__age')\n",
    "    date_list = soup.find_all('div', class_ = 'c-deceased__departed')\n",
    "    location_list = soup.find_all('div', class_ = 'c-deceased__location')\n",
    "    \n",
    "    names = []\n",
    "    ages = []\n",
    "    dates = []\n",
    "    locations = []\n",
    "\n",
    "    for name in name_list:\n",
    "        name = name.get_text()\n",
    "        names.append(name)\n",
    "\n",
    "    for age in age_list:\n",
    "        age = age.get_text()\n",
    "        age = int(age[0:-5])\n",
    "        ages.append(age)\n",
    "\n",
    "    for location in location_list:\n",
    "        location = location.get_text()\n",
    "        locations.append(location)\n",
    "\n",
    "    for date in date_list:\n",
    "        date = date.get_text()\n",
    "        date = date[11:-1]\n",
    "        date = dt.datetime.strptime(date, \"%d/%m/%Y\")\n",
    "        dates.append(date)\n",
    "\n",
    "    ages = Series(ages)\n",
    "    locations = Series(locations)\n",
    "    dates = Series(dates)\n",
    "    names = Series(names)\n",
    "    \n",
    "    tempdf[\"name\"] = names\n",
    "    tempdf[\"age\"] = ages\n",
    "    tempdf[\"date\"] = dates\n",
    "    tempdf[\"location\"] = locations\n",
    "    return tempdf\n",
    "\n",
    "df = Parallel(n_jobs=-1, verbose=10, backend=\"loky\")(map(delayed(get_deaths), page_list))"
   ]
  },
  {
   "cell_type": "code",
   "execution_count": 15,
   "metadata": {
    "tags": []
   },
   "outputs": [
    {
     "output_type": "stream",
     "name": "stdout",
     "text": [
      "(174759, 4)\n"
     ]
    }
   ],
   "source": [
    "new_df = pd.DataFrame()\n",
    "for item in df:\n",
    "    new_df = pd.concat([new_df, item])\n",
    "\n",
    "print(new_df.shape)"
   ]
  },
  {
   "cell_type": "markdown",
   "metadata": {},
   "source": [
    "## 4. Clean dataset\n",
    "### 4.1 Reshape\n",
    "The dataframe is reshaped in order to have the index numbers to be correct."
   ]
  },
  {
   "cell_type": "code",
   "execution_count": 16,
   "metadata": {},
   "outputs": [
    {
     "output_type": "execute_result",
     "data": {
      "text/plain": [
       "(174759, 4)"
      ]
     },
     "metadata": {},
     "execution_count": 16
    }
   ],
   "source": [
    "new_df.reset_index(inplace = True, drop = True)\n",
    "new_df = new_df[::-1].reset_index(drop = True)\n",
    "new_df.shape"
   ]
  },
  {
   "cell_type": "markdown",
   "metadata": {},
   "source": [
    "### 4.2 Reformat\n",
    "`month`, `week` and `day` of the year are extracted from `date` in order to store these in different variables to make exploratory analysis of the dataset a bit more straightforward."
   ]
  },
  {
   "cell_type": "code",
   "execution_count": 17,
   "metadata": {},
   "outputs": [
    {
     "output_type": "execute_result",
     "data": {
      "text/plain": [
       "                    name   age       date        location    month week  day\n",
       "0         Marcel Willems  73.0 2009-01-01         Lummen   January   00  001\n",
       "1     Leopoldine Willems  77.0 2009-01-01   Sint-Truiden   January   00  001\n",
       "2            Lydia Velle  86.0 2009-01-01    Antwerpen 1   January   00  001\n",
       "3  Suzette Van der Venne  87.0 2009-01-01    Zwijndrecht   January   00  001\n",
       "4      Jaak Van de Velde  87.0 2009-01-01       Wijnegem   January   00  001"
      ],
      "text/html": "<div>\n<style scoped>\n    .dataframe tbody tr th:only-of-type {\n        vertical-align: middle;\n    }\n\n    .dataframe tbody tr th {\n        vertical-align: top;\n    }\n\n    .dataframe thead th {\n        text-align: right;\n    }\n</style>\n<table border=\"1\" class=\"dataframe\">\n  <thead>\n    <tr style=\"text-align: right;\">\n      <th></th>\n      <th>name</th>\n      <th>age</th>\n      <th>date</th>\n      <th>location</th>\n      <th>month</th>\n      <th>week</th>\n      <th>day</th>\n    </tr>\n  </thead>\n  <tbody>\n    <tr>\n      <th>0</th>\n      <td>Marcel Willems</td>\n      <td>73.0</td>\n      <td>2009-01-01</td>\n      <td>Lummen</td>\n      <td>January</td>\n      <td>00</td>\n      <td>001</td>\n    </tr>\n    <tr>\n      <th>1</th>\n      <td>Leopoldine Willems</td>\n      <td>77.0</td>\n      <td>2009-01-01</td>\n      <td>Sint-Truiden</td>\n      <td>January</td>\n      <td>00</td>\n      <td>001</td>\n    </tr>\n    <tr>\n      <th>2</th>\n      <td>Lydia Velle</td>\n      <td>86.0</td>\n      <td>2009-01-01</td>\n      <td>Antwerpen 1</td>\n      <td>January</td>\n      <td>00</td>\n      <td>001</td>\n    </tr>\n    <tr>\n      <th>3</th>\n      <td>Suzette Van der Venne</td>\n      <td>87.0</td>\n      <td>2009-01-01</td>\n      <td>Zwijndrecht</td>\n      <td>January</td>\n      <td>00</td>\n      <td>001</td>\n    </tr>\n    <tr>\n      <th>4</th>\n      <td>Jaak Van de Velde</td>\n      <td>87.0</td>\n      <td>2009-01-01</td>\n      <td>Wijnegem</td>\n      <td>January</td>\n      <td>00</td>\n      <td>001</td>\n    </tr>\n  </tbody>\n</table>\n</div>"
     },
     "metadata": {},
     "execution_count": 17
    }
   ],
   "source": [
    "dates = new_df[\"date\"]\n",
    "\n",
    "months = []\n",
    "weeks = []\n",
    "days = []\n",
    "\n",
    "for date in dates:\n",
    "    month = dt.datetime.strftime(date, \"%B\")\n",
    "    week = dt.datetime.strftime(date, \"%W\")\n",
    "    day = dt.datetime.strftime(date, \"%j\")\n",
    "    months.append(month)\n",
    "    weeks.append(week)\n",
    "    days.append(day)\n",
    "    \n",
    "new_df[\"month\"] = months\n",
    "new_df[\"week\"] = weeks\n",
    "new_df[\"day\"] = days\n",
    "\n",
    "new_df['location']= pd.Series(new_df['location'], dtype=\"string\")\n",
    "new_df['month']= pd.Series(new_df['month'], dtype=\"string\")\n",
    "new_df['week']= pd.Series(new_df['week'], dtype=\"string\")\n",
    "new_df['name']= pd.Series(new_df['name'], dtype=\"string\")\n",
    "new_df['day']= pd.Series(new_df['day'], dtype=\"string\")\n",
    "\n",
    "booler = new_df[\"month\"] == \"March\"\n",
    "df = new_df.loc[booler,]\n",
    "\n",
    "new_df.head()"
   ]
  },
  {
   "cell_type": "markdown",
   "metadata": {},
   "source": [
    "## 5. Save the data\n",
    "The resulting dataset is ultimately saved in a .csv file called `deaths_2016-2020.csv` for later analysis."
   ]
  },
  {
   "cell_type": "code",
   "execution_count": 18,
   "metadata": {},
   "outputs": [],
   "source": [
    "new_df.to_csv(\"deaths_2009-2020.csv\")"
   ]
  }
 ],
 "metadata": {
  "kernelspec": {
   "display_name": "Python 3.8.3 64-bit ('base': conda)",
   "language": "python",
   "name": "python38364bitbaseconda040f90f86a0c4cfea34450c39d2e0b16"
  },
  "language_info": {
   "codemirror_mode": {
    "name": "ipython",
    "version": 3
   },
   "file_extension": ".py",
   "mimetype": "text/x-python",
   "name": "python",
   "nbconvert_exporter": "python",
   "pygments_lexer": "ipython3",
   "version": "3.8.3-final"
  }
 },
 "nbformat": 4,
 "nbformat_minor": 4
}